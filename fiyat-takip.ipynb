{
 "cells": [
  {
   "cell_type": "code",
   "execution_count": 50,
   "id": "530b7373",
   "metadata": {},
   "outputs": [
    {
     "name": "stdout",
     "output_type": "stream",
     "text": [
      "Requirement already satisfied: beautifulsoup4 in c:\\users\\beker\\anaconda3\\lib\\site-packages (4.11.1)\n",
      "Requirement already satisfied: soupsieve>1.2 in c:\\users\\beker\\anaconda3\\lib\\site-packages (from beautifulsoup4) (2.3.2.post1)\n",
      "Note: you may need to restart the kernel to use updated packages.\n"
     ]
    }
   ],
   "source": [
    "pip install beautifulsoup4\n"
   ]
  },
  {
   "cell_type": "code",
   "execution_count": 51,
   "id": "5575e5af",
   "metadata": {
    "scrolled": true
   },
   "outputs": [
    {
     "name": "stdout",
     "output_type": "stream",
     "text": [
      "Requirement already satisfied: requests in c:\\users\\beker\\anaconda3\\lib\\site-packages (2.28.2)\n",
      "Requirement already satisfied: bs4 in c:\\users\\beker\\anaconda3\\lib\\site-packages (0.0.1)\n",
      "Requirement already satisfied: urllib3<1.27,>=1.21.1 in c:\\users\\beker\\anaconda3\\lib\\site-packages (from requests) (1.26.12)\n",
      "Requirement already satisfied: charset-normalizer<4,>=2 in c:\\users\\beker\\anaconda3\\lib\\site-packages (from requests) (2.0.4)\n",
      "Requirement already satisfied: idna<4,>=2.5 in c:\\users\\beker\\appdata\\roaming\\python\\python39\\site-packages (from requests) (2.10)\n",
      "Requirement already satisfied: certifi>=2017.4.17 in c:\\users\\beker\\anaconda3\\lib\\site-packages (from requests) (2022.12.7)\n",
      "Requirement already satisfied: beautifulsoup4 in c:\\users\\beker\\anaconda3\\lib\\site-packages (from bs4) (4.11.1)\n",
      "Requirement already satisfied: soupsieve>1.2 in c:\\users\\beker\\anaconda3\\lib\\site-packages (from beautifulsoup4->bs4) (2.3.2.post1)\n",
      "Note: you may need to restart the kernel to use updated packages.\n"
     ]
    }
   ],
   "source": [
    "pip install requests bs4"
   ]
  },
  {
   "cell_type": "code",
   "execution_count": 52,
   "id": "0ec8d4ff",
   "metadata": {},
   "outputs": [
    {
     "name": "stdout",
     "output_type": "stream",
     "text": [
      "Requirement already satisfied: send-email-python in c:\\users\\beker\\anaconda3\\lib\\site-packages (0.0.1)\n",
      "Note: you may need to restart the kernel to use updated packages.\n"
     ]
    }
   ],
   "source": [
    "pip install send-email-python"
   ]
  },
  {
   "cell_type": "code",
   "execution_count": 53,
   "id": "1109ee1e",
   "metadata": {},
   "outputs": [
    {
     "name": "stdout",
     "output_type": "stream",
     "text": [
      "Collecting send_email\n",
      "  Downloading send_email-201212.tar.gz (1.7 kB)\n",
      "  Preparing metadata (setup.py): started\n",
      "  Preparing metadata (setup.py): finished with status 'done'\n",
      "Building wheels for collected packages: send_email\n",
      "  Building wheel for send_email (setup.py): started\n",
      "  Building wheel for send_email (setup.py): finished with status 'done'\n",
      "  Created wheel for send_email: filename=send_email-201212-py3-none-any.whl size=3439 sha256=ee1410fb609c1129108af1dfc6a5860cd81c423a23ae3ab018906b382830fd8d\n",
      "  Stored in directory: c:\\users\\beker\\appdata\\local\\pip\\cache\\wheels\\7d\\d7\\fc\\b9781b418c3518bdbc913a93f9be65587f760b4e638a16244c\n",
      "Successfully built send_email\n",
      "Installing collected packages: send_email\n",
      "Successfully installed send_email-201212\n",
      "Note: you may need to restart the kernel to use updated packages.\n"
     ]
    }
   ],
   "source": [
    "pip install send_email"
   ]
  },
  {
   "cell_type": "code",
   "execution_count": 67,
   "id": "6b97e1b2",
   "metadata": {},
   "outputs": [],
   "source": [
    "import requests\n",
    "from bs4 import BeautifulSoup\n",
    "import time"
   ]
  },
  {
   "cell_type": "code",
   "execution_count": 70,
   "id": "d53b5e31",
   "metadata": {},
   "outputs": [],
   "source": [
    "import smtplib\n",
    "from email.mime.multipart import MIMEMultipart\n",
    "from email.mime.text import MIMEText\n",
    "\n",
    "def sendMail(toMail,subject,content):\n",
    "    fromMail = \"testmailsender2023@gmail.com\"\n",
    "    server = smtplib.SMTP(\"smtp.gmail.com\",587)\n",
    "    \n",
    "    server.starttls()\n",
    "    \n",
    "    server.login(fromMail,1231243)\n",
    "    \n",
    "    message = MIMEMultipart('alternative')\n",
    "    message['subject'] = subject\n",
    "    \n",
    "    htmlContent = MIMEText(content,'html')\n",
    "    message.attach(htmlContent)\n",
    "    \n",
    "    server.sendmail(\n",
    "        fromMail,\n",
    "        toMail,\n",
    "        message.as_String()\n",
    "                    )\n",
    "    server.quit()"
   ]
  },
  {
   "cell_type": "code",
   "execution_count": 69,
   "id": "4a465303",
   "metadata": {},
   "outputs": [
    {
     "name": "stdout",
     "output_type": "stream",
     "text": [
      "189.99\n",
      "Altınyıldız Classics Erkek Haki Slim Fit Dar Kesim Polo Yaka %100 Pamuk Kısa Kollu Tişört 4A4820200001 \n",
      "189,99 TL\n",
      "189.99\n",
      "Altınyıldız Classics Erkek Haki Slim Fit Dar Kesim Polo Yaka %100 Pamuk Kısa Kollu Tişört 4A4820200001 \n",
      "189,99 TL\n"
     ]
    },
    {
     "ename": "KeyboardInterrupt",
     "evalue": "",
     "output_type": "error",
     "traceback": [
      "\u001b[1;31m---------------------------------------------------------------------------\u001b[0m",
      "\u001b[1;31mKeyboardInterrupt\u001b[0m                         Traceback (most recent call last)",
      "\u001b[1;32m~\\AppData\\Local\\Temp\\ipykernel_19520\\2289654258.py\u001b[0m in \u001b[0;36m<module>\u001b[1;34m\u001b[0m\n\u001b[0;32m     35\u001b[0m \u001b[1;32mwhile\u001b[0m\u001b[1;33m(\u001b[0m\u001b[1;32mTrue\u001b[0m\u001b[1;33m)\u001b[0m\u001b[1;33m:\u001b[0m\u001b[1;33m\u001b[0m\u001b[1;33m\u001b[0m\u001b[0m\n\u001b[0;32m     36\u001b[0m     \u001b[0mcheckPrice\u001b[0m\u001b[1;33m(\u001b[0m\u001b[0murl1\u001b[0m\u001b[1;33m,\u001b[0m\u001b[1;36m150\u001b[0m\u001b[1;33m)\u001b[0m\u001b[1;33m\u001b[0m\u001b[1;33m\u001b[0m\u001b[0m\n\u001b[1;32m---> 37\u001b[1;33m     \u001b[0mtime\u001b[0m\u001b[1;33m.\u001b[0m\u001b[0msleep\u001b[0m\u001b[1;33m(\u001b[0m\u001b[1;36m3\u001b[0m\u001b[1;33m)\u001b[0m\u001b[1;33m\u001b[0m\u001b[1;33m\u001b[0m\u001b[0m\n\u001b[0m",
      "\u001b[1;31mKeyboardInterrupt\u001b[0m: "
     ]
    }
   ],
   "source": [
    "import time\n",
    "url1 =\"https://www.trendyol.com/altinyildiz-classics/erkek-haki-slim-fit-dar-kesim-polo-yaka-100-pamuk-kisa-kollu-tisort-p-38061596?boutiqueId=61&merchantId=347&filterOverPriceListings=false&sav=true\"\n",
    "def checkPrice(url,paramPrice):\n",
    "    headers={\n",
    "        \"User-Agent\" : \"my-user-agent\"\n",
    "    }\n",
    "\n",
    "    page = requests.get(url1,headers=headers)\n",
    "    htmlPage = BeautifulSoup(page.content,'html.parser')\n",
    "    productName = htmlPage.find(\"h1\",class_ = \"pr-new-br\").getText()\n",
    "    image = htmlPage.find(\"img\", class_=\"ph-gl-img\")\n",
    "    productPrice = htmlPage.find(\"span\",class_ = \"prc-dsc\").getText()\n",
    "    convertedPrice = float(productPrice.replace(\",\",\".\").replace(\"TL\",\"\"))\n",
    "    print(convertedPrice)\n",
    "    print(productName)\n",
    "    print(productPrice)\n",
    "\n",
    "    htmlContent = \"\"\"\\\n",
    "        <html>\n",
    "                <head></head>\n",
    "                <body>\n",
    "                <h3>{0}</h3>\n",
    "                <br/>\n",
    "                {1}\n",
    "                <br/>\n",
    "                <p>Ürün linki: {2}</p>\n",
    "                </body>\n",
    "                </html>\n",
    "                \"\"\".format(productName, image, url)\n",
    "\n",
    "    if convertedPrice < 150 :\n",
    "        print(\"fiyat düştü\")\n",
    "        sendMail(reciever_mail,\"ürünün fiyatı düştü\",htmlContent)\n",
    "        \n",
    "while(True):\n",
    "    checkPrice(url1,150)\n",
    "    time.sleep(3)"
   ]
  },
  {
   "cell_type": "code",
   "execution_count": 36,
   "id": "5a7a1492",
   "metadata": {},
   "outputs": [
    {
     "name": "stdout",
     "output_type": "stream",
     "text": [
      "Collecting secure-smtplib\n",
      "  Downloading secure_smtplib-0.1.1-py2.py3-none-any.whl (3.4 kB)\n",
      "Installing collected packages: secure-smtplib\n",
      "Successfully installed secure-smtplib-0.1.1\n",
      "Note: you may need to restart the kernel to use updated packages.\n"
     ]
    }
   ],
   "source": [
    "pip install secure-smtplib"
   ]
  },
  {
   "cell_type": "code",
   "execution_count": 38,
   "id": "699f8509",
   "metadata": {},
   "outputs": [],
   "source": [
    "import smtplib\n",
    "from email.mime.multipart import MIMEMultipart\n",
    "\n",
    "def sendMail(toMail,subject,content):\n",
    "    fromMail = \"sender_mail\"\n",
    "    server = smtplib.SMTP(\"smtp.gmail.com\",587)\n",
    "    \n",
    "    server.starttls()\n",
    "    \n",
    "    server.login(fromMail,\"password\")\n",
    "    \n",
    "    message = MIMEMultipart('alternative')\n",
    "    message['subject'] = subject\n",
    "    \n",
    "    htmlContent = MIMEText(content,'html')\n",
    "    message.attach(htmlContent)\n",
    "    \n",
    "    server.sendmail(\n",
    "        fromMail,\n",
    "        toMail,\n",
    "        message.as_String()\n",
    "                    )\n",
    "    server.quit()\n",
    "    \n",
    "    \n",
    "    \n",
    "    \n",
    "    "
   ]
  },
  {
   "cell_type": "code",
   "execution_count": null,
   "id": "c46fe717",
   "metadata": {},
   "outputs": [],
   "source": []
  }
 ],
 "metadata": {
  "kernelspec": {
   "display_name": "Python 3 (ipykernel)",
   "language": "python",
   "name": "python3"
  },
  "language_info": {
   "codemirror_mode": {
    "name": "ipython",
    "version": 3
   },
   "file_extension": ".py",
   "mimetype": "text/x-python",
   "name": "python",
   "nbconvert_exporter": "python",
   "pygments_lexer": "ipython3",
   "version": "3.9.7"
  }
 },
 "nbformat": 4,
 "nbformat_minor": 5
}
